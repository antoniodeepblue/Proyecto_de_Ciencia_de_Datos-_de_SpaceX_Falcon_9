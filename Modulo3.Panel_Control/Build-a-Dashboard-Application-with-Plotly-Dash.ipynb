{
 "cells": [
  {
   "cell_type": "markdown",
   "id": "64c8cb68-e114-4610-8ff8-1908748eb51c",
   "metadata": {},
   "source": [
    "<center>\n",
    "    <img src=\"https://gitlab.com/ibm/skills-network/courses/placeholder101/-/raw/master/labs/module%201/images/IDSNlogo.png\" width=\"300\" alt=\"cognitiveclass.ai logo\"  />\n",
    "</center>"
   ]
  },
  {
   "cell_type": "markdown",
   "id": "5dc85208-e13b-4adc-8b6d-6271ba904fd3",
   "metadata": {},
   "source": [
    "# Build a Dashboard Application with Plotly Dash"
   ]
  },
  {
   "cell_type": "markdown",
   "id": "ef3d8499-8a47-4fcc-a7a3-756465189343",
   "metadata": {},
   "source": [
    "Coursera lab instructions [link](https://cf-courses-data.s3.us.cloud-object-storage.appdomain.cloud/IBM-DS0321EN-SkillsNetwork/labs/module_3/lab_theia_plotly_dash.md.html)"
   ]
  },
  {
   "cell_type": "markdown",
   "id": "339e7dcf-a5be-44ee-9efc-b850c243737c",
   "metadata": {},
   "source": [
    "In this lab, you will be building a Plotly Dash application for users to perform interactive visual analytics on SpaceX launch data in real-time.\n",
    "\n",
    "This dashboard application contains input components such as a dropdown list and a range slider to interact with a pie chart and a scatter point chart. You will be guided to build this dashboard application via the following tasks:\n",
    "* TASK 1: Add a Launch Site Drop-down Input Component\n",
    "* TASK 2: Add a callback function to render success-pie-chart based on selected site dropdown\n",
    "* TASK 3: Add a Range Slider to Select Payload\n",
    "* TASK 4: Add a callback function to render the success-payload-scatter-chart scatter plot\n",
    "\n",
    "**Note:Please take screenshots of the Dashboard and save them. Further upload your notebook to github.**\n",
    "\n",
    "**The github url and the screenshots are later required in the presentation slides.**\n",
    "\n",
    "Your completed dashboard application should look like the following screenshot:"
   ]
  },
  {
   "cell_type": "markdown",
   "id": "335a431f-8c40-4e8f-85a0-ba7eb4e720ac",
   "metadata": {},
   "source": [
    "<img src='https://cf-courses-data.s3.us.cloud-object-storage.appdomain.cloud/IBM-DS0321EN-SkillsNetwork/labs/module_3/images/dash_completed.PNG' />"
   ]
  },
  {
   "cell_type": "markdown",
   "id": "d45bc7d6-c070-4f5d-9027-69d570c4545a",
   "metadata": {},
   "source": [
    "After visual analysis using the dashboard, you should be able to obtain some insights to answer the following five questions:\n",
    "* Which site has the largest successful launches?\n",
    "* Which site has the highest launch success rate?\n",
    "* Which payload range(s) has the highest launch success rate?\n",
    "* Which payload range(s) has the lowest launch success rate?\n",
    "* Which F9 Booster version (v1.0, v1.1, FT, B4, B5, etc.) has the highest launch success rate?"
   ]
  },
  {
   "cell_type": "markdown",
   "id": "68087c06-fc49-4221-aa2b-e61d43e3668e",
   "metadata": {},
   "source": [
    "## Setup development environment"
   ]
  },
  {
   "cell_type": "markdown",
   "id": "08f5a71f-07e7-4d0d-9579-cb1ccf2f49b7",
   "metadata": {},
   "source": [
    "Install required Python packages\n",
    "> Open a new terminal, by clicking on the menu bar and selecting Terminal->New Terminal, as in the image below.\n",
    "> <img src='https://cf-courses-data.s3.us.cloud-object-storage.appdomain.cloud/IBMDeveloperSkillsNetwork-DV0101EN-SkillsNetwork/labs/Module%204/images/lab2_new_terminal.png' />"
   ]
  },
  {
   "cell_type": "markdown",
   "id": "05dacbbb-7c71-4d38-8fa1-6524ac1cabb2",
   "metadata": {},
   "source": [
    "> Now, you have script and terminal ready to start the lab.\n",
    "> <img src='https://cf-courses-data.s3.us.cloud-object-storage.appdomain.cloud/IBMDeveloperSkillsNetwork-DV0101EN-SkillsNetwork/labs/Module%204/images/lab2_terminal.png' />"
   ]
  },
  {
   "cell_type": "markdown",
   "id": "b60c41ad-d33a-4f1c-8f69-498ffd11006c",
   "metadata": {},
   "source": [
    "> Install python packages required to run the application.\n",
    "> Copy and paste the below command to the terminal.\n",
    "> ``` python\n",
    "pip3 install pandas dash ```\n",
    "> <img src='https://cf-courses-data.s3.us.cloud-object-storage.appdomain.cloud/IBMDeveloperSkillsNetwork-DV0101EN-SkillsNetwork/labs/Module%204/images/install.png'>"
   ]
  },
  {
   "cell_type": "markdown",
   "id": "b2cd0ece-b7df-4bc3-896d-2716e1cdfa3e",
   "metadata": {},
   "source": [
    "## Download a skeleton dashboard application and dataset"
   ]
  },
  {
   "cell_type": "markdown",
   "id": "7cb64e0f-cfee-47ea-a1c0-23f350291e77",
   "metadata": {},
   "source": [
    "First, let's get the SpaceX Launch dataset for this lab:\n",
    "\n",
    "> Run the following wget command line in the terminal to download dataset as spacex_launch_dash.csv:<br/>\n",
    "`wget \"https://cf-courses-data.s3.us.cloud-object-storage.appdomain.cloud/IBM-DS0321EN-SkillsNetwork/datasets/spacex_launch_dash.csv\"` <br/> <br/>\n",
    "Download a skeleton Dash app to be completed in this lab: <br/>\n",
    "`wget \"https://cf-courses-data.s3.us.cloud-object-storage.appdomain.cloud/IBM-DS0321EN-SkillsNetwork/labs/module_3/spacex_dash_app.py\"` <br/> <br/>\n",
    "Test the skeleton app by running the following command in the terminal: <br/>\n",
    "`python3 spacex_dash_app.py` <br/> <br/>\n",
    "Observe the port number (8050) shown in the terminal:<br/>\n",
    "<img src='https://cf-courses-data.s3.us.cloud-object-storage.appdomain.cloud/IBMDeveloperSkillsNetwork-DV0101EN-SkillsNetwork/labs/Module%204/images/port.png'>"
   ]
  },
  {
   "cell_type": "markdown",
   "id": "883a8c28-f90c-48a3-8dd5-4251fa89df47",
   "metadata": {},
   "source": [
    "## TASKS"
   ]
  },
  {
   "cell_type": "markdown",
   "id": "f0c90f6e-0cd7-4a4f-a4e2-b02bf070c526",
   "metadata": {},
   "source": [
    "### TASK 1: Add a Launch Site Drop-down Input Component\n",
    "We have four different launch sites and we would like to first see which one has the largest success count. Then, we would like to select one specific site and check its detailed success rate (class=0 vs. class=1).\n",
    "\n",
    "As such, we will need a dropdown menu to let us select different launch sites.\n",
    "* `Find` and complete a commented dcc.Dropdown(id='site-dropdown',...) input with following attributes:\n",
    "  * `id` attribute with value site-dropdown\n",
    "  * `options` attribute is a list of dict-like option objects (with label and value attributes). You can set the label and value all to be the launch site names in the spacex_df and you need to include the default All option. e.g., `options=[{'label': 'All Sites', 'value': 'ALL'},{'label': 'site1', 'value': 'site1'}, ...]`\n",
    "  * `value` attribute with default dropdown value to be ALL meaning all sites are selected\n",
    "  * `placeholder` attribute to show a text description about this input area, such as Select a Launch Site here\n",
    "  * `searchable` attribute to be True so we can enter keywords to search launch sites"
   ]
  },
  {
   "cell_type": "markdown",
   "id": "62765fe4-5502-4e51-a82c-799d84e30ef4",
   "metadata": {},
   "source": [
    "Here is an example of dcc.Dropdown:\n",
    "``` python\n",
    "  dcc.Dropdown(id='id',\n",
    "               options=[\n",
    "                   {'label': 'All Sites', 'value': 'ALL'},\n",
    "                   {'label': 'site1', 'value': 'site1'},\n",
    "               ],\n",
    "               value='ALL',\n",
    "               placeholder=\"place holder here\",\n",
    "               searchable=True\n",
    "               ),\n",
    "```"
   ]
  },
  {
   "cell_type": "markdown",
   "id": "7909b36d-b7e9-41c9-b0a3-6647dbfdcc76",
   "metadata": {},
   "source": [
    "Your completed dropdown menu should look like the following screenshot:\n",
    "<img src='https://cf-courses-data.s3.us.cloud-object-storage.appdomain.cloud/IBM-DS0321EN-SkillsNetwork/labs/module_3/images/site-dropdown.PNG'>"
   ]
  },
  {
   "cell_type": "markdown",
   "id": "5051b044-3765-4a96-9e51-99fcba5ae9d9",
   "metadata": {},
   "source": [
    "### TASK 2: Add a callback function to render success-pie-chart based on selected site dropdown"
   ]
  },
  {
   "cell_type": "markdown",
   "id": "aa5b1748-a769-4a00-860d-ea3415066edd",
   "metadata": {},
   "source": [
    "The general idea of this callback function is to get the selected launch site from site-dropdown and render a pie chart visualizing launch success counts.\n",
    "\n",
    "Dash callback function is a type of Python function which will be automatically called by Dash whenever receiving an input component updates, such as a click or dropdown selecting event.\n",
    "\n",
    "If you need to refresh your memory about Plotly Dash callback functions, you may refer to the lab you have learned before:\n",
    "\n",
    "[Plotly Dash Lab](https://cf-courses-data.s3.us.cloud-object-storage.appdomain.cloud/IBMDeveloperSkillsNetwork-DV0101EN-SkillsNetwork/labs/Module%204/4.7_Dash_Interactivity.py)"
   ]
  },
  {
   "cell_type": "markdown",
   "id": "468ff3d5-f10c-46d9-be84-40c06fe4ad96",
   "metadata": {},
   "source": [
    "Let's add a callback function in `spacex_dash_app.py` including the following application logic:\n",
    "\n",
    "* Input is set to be the `site-dropdown` dropdown, i.e., `Input(component_id='site-dropdown', component_property='value')`\n",
    "* Output to be the graph with id success-pie-chart, i.e., `Output(component_id='success-pie-chart', component_property='figure')`\n",
    "* An `If-Else` statement to check if ALL sites were selected or just a specific launch site was selected\n",
    "  * If ALL sites are selected, we will use all rows in the dataframe `spacex_df` to render and return a pie chart graph to show the total success launches (i.e., the total count of `class` column)\n",
    "  * If a specific launch site is selected, you need to filter the dataframe `spacex_df` first in order to include the only data for the selected site. Then, render and return a pie chart graph to show the success (`class=1`) count and failed (`class=0`) count for the selected site."
   ]
  },
  {
   "cell_type": "markdown",
   "id": "42056dbb-2e4d-4bd5-b108-be9603ad6e01",
   "metadata": {},
   "source": [
    "Here is an example of a callback function:\n",
    "``` python\n",
    "# Function decorator to specify function input and output\n",
    "@app.callback(Output(component_id='success-pie-chart', component_property='figure'),\n",
    "              Input(component_id='site-dropdown', component_property='value'))\n",
    "def get_pie_chart(entered_site):\n",
    "    filtered_df = spacex_df\n",
    "    if entered_site == 'ALL':\n",
    "        fig = px.pie(data, values='class', \n",
    "        names='pie chart names', \n",
    "        title='title')\n",
    "        return fig\n",
    "    else:\n",
    "        # return the outcomes piechart for a selected site\n",
    "```"
   ]
  },
  {
   "cell_type": "markdown",
   "id": "6fd4555b-76af-460a-8ef4-54fb55235682",
   "metadata": {},
   "source": [
    "The rendered pie chart should look like the following screenshots:\n",
    "> Pie chart for all sites are selected <img src='https://cf-courses-data.s3.us.cloud-object-storage.appdomain.cloud/IBM-DS0321EN-SkillsNetwork/labs/module_3/images/pie-chart-all.PNG'>\n",
    "> \n",
    "> Pie chart for is selected <img src='https://cf-courses-data.s3.us.cloud-object-storage.appdomain.cloud/IBM-DS0321EN-SkillsNetwork/labs/module_3/images/pie-chart-one.PNG'>"
   ]
  },
  {
   "cell_type": "markdown",
   "id": "4c7b2def-8099-4d9e-bdb9-9a3d08cab43a",
   "metadata": {},
   "source": [
    "### TASK 3: Add a Range Slider to Select Payload"
   ]
  },
  {
   "cell_type": "markdown",
   "id": "1a41d198-2960-4dc8-a606-d111739e8722",
   "metadata": {},
   "source": [
    "Next, we want to find if variable payload is correlated to mission outcome. From a dashboard point of view, we want to be able to easily select different payload range and see if we can identify some visual patterns.\n",
    "\n",
    "Find and complete a commented `dcc.RangeSlider(id='payload-slider',...)` input with the following attribute:\n",
    "* `id` to be `payload-slider`\n",
    "* `min` indicating the slider starting point, we set its value to be 0 (Kg)\n",
    "* `max` indicating the slider ending point to, we set its value to be 10000 (Kg)\n",
    "* `step` indicating the slider interval on the slider, we set its value to be 1000 (Kg)\n",
    "* `value` indicating the current selected range, we could set it to be `min_payload` and `max_payload`"
   ]
  },
  {
   "cell_type": "markdown",
   "id": "a65d69f2-b001-4de3-96c3-3c90a84e45de",
   "metadata": {},
   "source": [
    "Here is an example of RangeSlider:\n",
    "``` python\n",
    "dcc.RangeSlider(id='id',\n",
    "                min=0, max=10000, step=1000,\n",
    "                marks={0: '0',\n",
    "                       100: '100'},\n",
    "                value=[min_value, max_value])\n",
    "```"
   ]
  },
  {
   "cell_type": "markdown",
   "id": "2bc62f00-a94d-4026-82d5-e04f5d3a6a7b",
   "metadata": {},
   "source": [
    "You completed payload range slider should be similar the following screenshot:\n",
    "<img src='https://cf-courses-data.s3.us.cloud-object-storage.appdomain.cloud/IBM-DS0321EN-SkillsNetwork/labs/module_3/images/range-slider.PNG'>"
   ]
  },
  {
   "cell_type": "markdown",
   "id": "891d5d1b-b895-4346-b5ba-2ec1b5f663ed",
   "metadata": {},
   "source": [
    "### TASK 4: Add a callback function to render the success-payload-scatter-chart scatter plot"
   ]
  },
  {
   "cell_type": "markdown",
   "id": "a37262b5-7932-4afe-a37e-a747a540b999",
   "metadata": {},
   "source": [
    "Next, we want to plot a scatter plot with the x axis to be the payload and the y axis to be the launch outcome (i.e., `class` column). As such, we can visually observe how payload may be correlated with mission outcomes for selected site(s).\n",
    "\n",
    "In addition, we want to color-label the Booster version on each scatter point so that we may observe mission outcomes with different boosters.\n",
    "\n",
    "Now, let's add a call function including the following application logic:\n",
    "* `Input` to be `[Input(component_id='site-dropdown', component_property='value'), Input(component_id=\"payload-slider\", component_property=\"value\")]` Note that we have two input components, one to receive selected launch site and another to receive selected payload range\n",
    "* `Output` to be `Output(component_id='success-payload-scatter-chart', component_property='figure')`\n",
    "* An `If-Else` statement to check if ALL sites were selected or just a specific launch site was selected\n",
    "  * If ALL sites are selected, render a scatter plot to display all values for variable `Payload Mass (kg)` and variable `class`.\n",
    "\n",
    "Note:\n",
    "> In addition, the point color needs to be set to the booster version i.e., `color=\"Booster Version Category\"`\n",
    "If a specific launch site is selected, you need to filter the `spacex_df` first, and render a scatter chart to show\n",
    "values `Payload Mass (kg)` and class for the selected site, and color-label the point using `Boosster Version Category` likewise."
   ]
  },
  {
   "cell_type": "markdown",
   "id": "716b5004-3859-439b-b20a-b58b7bbffa30",
   "metadata": {},
   "source": [
    "You rendered scatter point should look like the following screenshot:\n",
    "<img src='https://cf-courses-data.s3.us.cloud-object-storage.appdomain.cloud/IBM-DS0321EN-SkillsNetwork/labs/module_3/images/scatter-point.PNG'>"
   ]
  },
  {
   "cell_type": "markdown",
   "id": "6e82887e-327a-4757-ae6f-db6bffbd8267",
   "metadata": {},
   "source": [
    "### Finding Insights Visually"
   ]
  },
  {
   "cell_type": "markdown",
   "id": "3daefeb5-4977-4d5b-81d1-b54e360ca3c7",
   "metadata": {},
   "source": [
    "Now with the dashboard completed, you should be able to use it to analyze SpaceX launch data, and answer the following questions:\n",
    "1. Which site has the largest successful launches?\n",
    "1. Which site has the highest launch success rate?\n",
    "1. Which payload range(s) has the highest launch success rate?\n",
    "1. Which payload range(s) has the lowest launch success rate?\n",
    "1. Which F9 Booster version (v1.0, v1.1, FT, B4, B5, etc.) has the highest launch success rate?"
   ]
  },
  {
   "cell_type": "markdown",
   "id": "2a45bb37-7475-4c27-a6e0-e8e85e61f03e",
   "metadata": {},
   "source": [
    "## Plotly Dash Reference"
   ]
  },
  {
   "cell_type": "markdown",
   "id": "593d5929-6e45-4a2b-9868-a16b1311fc73",
   "metadata": {},
   "source": [
    "**Dropdown (input) component**<br/>\n",
    "Refer [here](https://dash.plotly.com/dash-core-components/dropdown?utm_medium=Exinfluencer&utm_source=Exinfluencer&utm_content=000026UJ&utm_term=10006555&utm_id=NA-SkillsNetwork-Channel-SkillsNetworkCoursesIBMDS0321ENSkillsNetwork26802033-2021-01-01) for more details about `dcc.Dropdown()`\n",
    "\n",
    "**Range slider (input) component**<br/>\n",
    "Refer [here](https://dash.plotly.com/dash-core-components/rangeslider?utm_medium=Exinfluencer&utm_source=Exinfluencer&utm_content=000026UJ&utm_term=10006555&utm_id=NA-SkillsNetwork-Channel-SkillsNetworkCoursesIBMDS0321ENSkillsNetwork26802033-2021-01-01) for more details about `dcc.RangeSlider()`\n",
    "\n",
    "**Pie chart (output) component**<br/>\n",
    "Refer [here](https://plotly.com/python/pie-charts/?utm_medium=Exinfluencer&utm_source=Exinfluencer&utm_content=000026UJ&utm_term=10006555&utm_id=NA-SkillsNetwork-Channel-SkillsNetworkCoursesIBMDS0321ENSkillsNetwork26802033-2021-01-01) for more details about plotly pie charts\n",
    "\n",
    "**Scatter chart (output) component**<br/>\n",
    "Refer [here](https://plotly.com/python/line-and-scatter/?utm_medium=Exinfluencer&utm_source=Exinfluencer&utm_content=000026UJ&utm_term=10006555&utm_id=NA-SkillsNetwork-Channel-SkillsNetworkCoursesIBMDS0321ENSkillsNetwork26802033-2021-01-01) for more details about plotly scatter charts"
   ]
  }
 ],
 "metadata": {
  "kernelspec": {
   "display_name": "Python 3 (ipykernel)",
   "language": "python",
   "name": "python3"
  },
  "language_info": {
   "codemirror_mode": {
    "name": "ipython",
    "version": 3
   },
   "file_extension": ".py",
   "mimetype": "text/x-python",
   "name": "python",
   "nbconvert_exporter": "python",
   "pygments_lexer": "ipython3",
   "version": "3.9.5"
  }
 },
 "nbformat": 4,
 "nbformat_minor": 5
}
